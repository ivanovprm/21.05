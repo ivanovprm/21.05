{
 "cells": [
  {
   "cell_type": "code",
   "execution_count": 2,
   "id": "973ec1af",
   "metadata": {},
   "outputs": [
    {
     "name": "stdout",
     "output_type": "stream",
     "text": [
      "3950617249382716\n"
     ]
    }
   ],
   "source": [
    "# Сумма ряда 0 - 88888888\n",
    "print(sum(range(0,88888889)))"
   ]
  },
  {
   "cell_type": "code",
   "execution_count": 3,
   "id": "8c6840d4",
   "metadata": {},
   "outputs": [
    {
     "name": "stdout",
     "output_type": "stream",
     "text": [
      "24.285714285714285\n"
     ]
    }
   ],
   "source": [
    "#Среднее арифметическое ряда [3, 4, 56, 100, 2, 2, 3]\n",
    "num = [3, 4, 56, 100, 2, 2, 3]\n",
    "print(sum(num) / len(num))"
   ]
  },
  {
   "cell_type": "code",
   "execution_count": 4,
   "id": "329ead40",
   "metadata": {},
   "outputs": [
    {
     "name": "stdout",
     "output_type": "stream",
     "text": [
      "asdyfghyyyy\n"
     ]
    }
   ],
   "source": [
    "#Заменить в строке \"asdxfghyxyx\" все буквы \"х\" на \"у\"\n",
    "str = \"asdxfghyxyx\"\n",
    "new_str = str.replace(\"x\", \"y\")\n",
    "print(new_str)"
   ]
  },
  {
   "cell_type": "code",
   "execution_count": 5,
   "id": "354a8593",
   "metadata": {},
   "outputs": [
    {
     "name": "stdout",
     "output_type": "stream",
     "text": [
      "450\n"
     ]
    }
   ],
   "source": [
    "#Сосчитать произведение чисел [3, 4, 56, 100, 15, 2, 20, 30], кратных и 3 и 5.\n",
    "num = [3, 4, 56, 100, 15, 2, 20, 30]\n",
    "res = 1\n",
    "for i in num:\n",
    "    if i % 3 == 0 and i % 5 == 0:\n",
    "       res *= i\n",
    "print(res)"
   ]
  },
  {
   "cell_type": "code",
   "execution_count": 6,
   "id": "78a6d002",
   "metadata": {},
   "outputs": [
    {
     "name": "stdout",
     "output_type": "stream",
     "text": [
      "asdyfghyyyy\n"
     ]
    }
   ],
   "source": [
    "#Заменить все буквы \"х\" на \"у\" в исходной строке без использования дополнительной строки.\n",
    "str = \"asdxfghyxyx\"\n",
    "print(str.replace(\"x\", \"y\"))"
   ]
  }
 ],
 "metadata": {
  "kernelspec": {
   "display_name": "Python 3 (ipykernel)",
   "language": "python",
   "name": "python3"
  },
  "language_info": {
   "codemirror_mode": {
    "name": "ipython",
    "version": 3
   },
   "file_extension": ".py",
   "mimetype": "text/x-python",
   "name": "python",
   "nbconvert_exporter": "python",
   "pygments_lexer": "ipython3",
   "version": "3.9.12"
  }
 },
 "nbformat": 4,
 "nbformat_minor": 5
}
